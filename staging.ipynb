{
  "nbformat": 4,
  "nbformat_minor": 0,
  "metadata": {
    "colab": {
      "name": "Untitled0.ipynb",
      "provenance": [],
      "authorship_tag": "ABX9TyPuQESxvPfcFdGtN5NgPYiE",
      "include_colab_link": true
    },
    "kernelspec": {
      "name": "python3",
      "display_name": "Python 3"
    }
  },
  "cells": [
    {
      "cell_type": "markdown",
      "metadata": {
        "id": "view-in-github",
        "colab_type": "text"
      },
      "source": [
        "<a href=\"https://colab.research.google.com/github/AgentMrBig/python-for-finance/blob/master/staging.ipynb\" target=\"_parent\"><img src=\"https://colab.research.google.com/assets/colab-badge.svg\" alt=\"Open In Colab\"/></a>"
      ]
    },
    {
      "cell_type": "code",
      "metadata": {
        "id": "n59n52y_PhxN"
      },
      "source": [
        "import numpy as np \n",
        "import pandas as pd\n",
        "import datetime\n",
        "from sklearn.tree import DecisionTreeRegressor\n",
        "from sklearn.linear_model import LinearRegression\n",
        "from sklearn.model_selection import train_test_split\n",
        "import matplotlib.pyplot as plt\n",
        "plt.style.use('bmh')"
      ],
      "execution_count": 16,
      "outputs": []
    },
    {
      "cell_type": "code",
      "metadata": {
        "id": "A4g-Nyy7Vs4A"
      },
      "source": [
        ""
      ],
      "execution_count": null,
      "outputs": []
    },
    {
      "cell_type": "code",
      "metadata": {
        "id": "NBvPkZCPQWYs"
      },
      "source": [
        "import finnhub"
      ],
      "execution_count": 4,
      "outputs": []
    },
    {
      "cell_type": "code",
      "metadata": {
        "id": "z5DiOolZQYi5"
      },
      "source": [
        "finnhub_client = finnhub.Client(api_key=\"bu76jmf48v6rajd4sij0\")"
      ],
      "execution_count": 7,
      "outputs": []
    },
    {
      "cell_type": "code",
      "metadata": {
        "id": "K-TwHegYTkqF"
      },
      "source": [
        "nflxData = finnhub_client.stock_candles('AAPL', 'D', 1590988249, 1591852249)"
      ],
      "execution_count": 10,
      "outputs": []
    },
    {
      "cell_type": "code",
      "metadata": {
        "id": "hBTn0XiwT8id"
      },
      "source": [
        "df = pd.DataFrame(nflxData)"
      ],
      "execution_count": 13,
      "outputs": []
    },
    {
      "cell_type": "code",
      "metadata": {
        "id": "vKahHPIUVNvJ",
        "outputId": "9572ed67-5c9e-4aa4-c91b-519cc46136ae",
        "colab": {
          "base_uri": "https://localhost:8080/",
          "height": 297
        }
      },
      "source": [
        "display(df)"
      ],
      "execution_count": 15,
      "outputs": [
        {
          "output_type": "display_data",
          "data": {
            "text/html": [
              "<div>\n",
              "<style scoped>\n",
              "    .dataframe tbody tr th:only-of-type {\n",
              "        vertical-align: middle;\n",
              "    }\n",
              "\n",
              "    .dataframe tbody tr th {\n",
              "        vertical-align: top;\n",
              "    }\n",
              "\n",
              "    .dataframe thead th {\n",
              "        text-align: right;\n",
              "    }\n",
              "</style>\n",
              "<table border=\"1\" class=\"dataframe\">\n",
              "  <thead>\n",
              "    <tr style=\"text-align: right;\">\n",
              "      <th></th>\n",
              "      <th>c</th>\n",
              "      <th>h</th>\n",
              "      <th>l</th>\n",
              "      <th>o</th>\n",
              "      <th>s</th>\n",
              "      <th>t</th>\n",
              "      <th>v</th>\n",
              "    </tr>\n",
              "  </thead>\n",
              "  <tbody>\n",
              "    <tr>\n",
              "      <th>0</th>\n",
              "      <td>80.830002</td>\n",
              "      <td>80.860001</td>\n",
              "      <td>79.730003</td>\n",
              "      <td>80.190002</td>\n",
              "      <td>ok</td>\n",
              "      <td>1591056000</td>\n",
              "      <td>87642816</td>\n",
              "    </tr>\n",
              "    <tr>\n",
              "      <th>1</th>\n",
              "      <td>81.279999</td>\n",
              "      <td>81.550003</td>\n",
              "      <td>80.580002</td>\n",
              "      <td>81.169998</td>\n",
              "      <td>ok</td>\n",
              "      <td>1591142400</td>\n",
              "      <td>104491216</td>\n",
              "    </tr>\n",
              "    <tr>\n",
              "      <th>2</th>\n",
              "      <td>80.580002</td>\n",
              "      <td>81.410004</td>\n",
              "      <td>80.190002</td>\n",
              "      <td>81.099998</td>\n",
              "      <td>ok</td>\n",
              "      <td>1591228800</td>\n",
              "      <td>87560368</td>\n",
              "    </tr>\n",
              "    <tr>\n",
              "      <th>3</th>\n",
              "      <td>82.879997</td>\n",
              "      <td>82.940002</td>\n",
              "      <td>80.809998</td>\n",
              "      <td>80.839996</td>\n",
              "      <td>ok</td>\n",
              "      <td>1591315200</td>\n",
              "      <td>137250208</td>\n",
              "    </tr>\n",
              "    <tr>\n",
              "      <th>4</th>\n",
              "      <td>83.360001</td>\n",
              "      <td>83.400002</td>\n",
              "      <td>81.830002</td>\n",
              "      <td>82.559998</td>\n",
              "      <td>ok</td>\n",
              "      <td>1591574400</td>\n",
              "      <td>95654536</td>\n",
              "    </tr>\n",
              "    <tr>\n",
              "      <th>5</th>\n",
              "      <td>86.000000</td>\n",
              "      <td>86.400002</td>\n",
              "      <td>83.000000</td>\n",
              "      <td>83.029999</td>\n",
              "      <td>ok</td>\n",
              "      <td>1591660800</td>\n",
              "      <td>147712368</td>\n",
              "    </tr>\n",
              "    <tr>\n",
              "      <th>6</th>\n",
              "      <td>88.209999</td>\n",
              "      <td>88.690002</td>\n",
              "      <td>86.519997</td>\n",
              "      <td>86.970001</td>\n",
              "      <td>ok</td>\n",
              "      <td>1591747200</td>\n",
              "      <td>166651744</td>\n",
              "    </tr>\n",
              "    <tr>\n",
              "      <th>7</th>\n",
              "      <td>83.970001</td>\n",
              "      <td>87.769997</td>\n",
              "      <td>83.870003</td>\n",
              "      <td>87.330002</td>\n",
              "      <td>ok</td>\n",
              "      <td>1591833600</td>\n",
              "      <td>201662448</td>\n",
              "    </tr>\n",
              "  </tbody>\n",
              "</table>\n",
              "</div>"
            ],
            "text/plain": [
              "           c          h          l          o   s           t          v\n",
              "0  80.830002  80.860001  79.730003  80.190002  ok  1591056000   87642816\n",
              "1  81.279999  81.550003  80.580002  81.169998  ok  1591142400  104491216\n",
              "2  80.580002  81.410004  80.190002  81.099998  ok  1591228800   87560368\n",
              "3  82.879997  82.940002  80.809998  80.839996  ok  1591315200  137250208\n",
              "4  83.360001  83.400002  81.830002  82.559998  ok  1591574400   95654536\n",
              "5  86.000000  86.400002  83.000000  83.029999  ok  1591660800  147712368\n",
              "6  88.209999  88.690002  86.519997  86.970001  ok  1591747200  166651744\n",
              "7  83.970001  87.769997  83.870003  87.330002  ok  1591833600  201662448"
            ]
          },
          "metadata": {
            "tags": []
          }
        }
      ]
    },
    {
      "cell_type": "code",
      "metadata": {
        "id": "1R82Ltc6V-_j",
        "outputId": "316cf65e-7585-43e8-be01-c2946070dbf4",
        "colab": {
          "base_uri": "https://localhost:8080/",
          "height": 34
        }
      },
      "source": [
        "print(datetime.datetime.fromtimestamp(int(\"1591056000\")).strftime('%Y-%m-%d %H:%M:%S'))"
      ],
      "execution_count": 19,
      "outputs": [
        {
          "output_type": "stream",
          "text": [
            "2020-06-02 00:00:00\n"
          ],
          "name": "stdout"
        }
      ]
    },
    {
      "cell_type": "code",
      "metadata": {
        "id": "p-bD7v4MZi5c",
        "outputId": "cdf05fb5-e2e3-4dd5-e807-fa00ad87ebb1",
        "colab": {
          "base_uri": "https://localhost:8080/",
          "height": 34
        }
      },
      "source": [
        "#Get the number of trading days in dataset\n",
        "df.shape"
      ],
      "execution_count": 20,
      "outputs": [
        {
          "output_type": "execute_result",
          "data": {
            "text/plain": [
              "(8, 7)"
            ]
          },
          "metadata": {
            "tags": []
          },
          "execution_count": 20
        }
      ]
    },
    {
      "cell_type": "code",
      "metadata": {
        "id": "KaxcgrXCZtRf",
        "outputId": "1e82add8-c56b-4439-c541-bec90576d30e",
        "colab": {
          "base_uri": "https://localhost:8080/",
          "height": 513
        }
      },
      "source": [
        "#Visualize the close price data\n",
        "plt.figure(figsize=(16,8))\n",
        "plt.title('Netflix')\n",
        "plt.xlabel('Days')\n",
        "plt.ylabel('Close Price USD')\n",
        "plt.plot(df['c'])\n",
        "plt.show()"
      ],
      "execution_count": 21,
      "outputs": [
        {
          "output_type": "display_data",
          "data": {
            "image/png": "[encoded data removed]",
            "text/plain": [
              "<Figure size 1152x576 with 1 Axes>"
            ]
          },
          "metadata": {
            "tags": [],
            "needs_background": "light"
          }
        }
      ]
    }
  ]
}