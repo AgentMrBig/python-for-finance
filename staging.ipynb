{
  "nbformat": 4,
  "nbformat_minor": 0,
  "metadata": {
    "colab": {
      "name": "Untitled0.ipynb",
      "provenance": [],
      "collapsed_sections": [],
      "authorship_tag": "ABX9TyOhLOq5n86mJBxd7zYXzs4V",
      "include_colab_link": true
    },
    "kernelspec": {
      "name": "python3",
      "display_name": "Python 3"
    }
  },
  "cells": [
    {
      "cell_type": "markdown",
      "metadata": {
        "id": "view-in-github",
        "colab_type": "text"
      },
      "source": [
        "<a href=\"https://colab.research.google.com/github/AgentMrBig/python-for-finance/blob/master/staging.ipynb\" target=\"_parent\"><img src=\"https://colab.research.google.com/assets/colab-badge.svg\" alt=\"Open In Colab\"/></a>"
      ]
    },
    {
      "cell_type": "code",
      "metadata": {
        "id": "n59n52y_PhxN"
      },
      "source": [
        "import numpy as np \n",
        "import pandas as pd\n",
        "import datetime\n",
        "from sklearn.tree import DecisionTreeRegressor\n",
        "from sklearn.linear_model import LinearRegression\n",
        "from sklearn.model_selection import train_test_split\n",
        "import matplotlib.pyplot as plt\n",
        "plt.style.use('bmh')"
      ],
      "execution_count": 16,
      "outputs": []
    },
    {
      "cell_type": "code",
      "metadata": {
        "id": "A4g-Nyy7Vs4A"
      },
      "source": [
        ""
      ],
      "execution_count": null,
      "outputs": []
    },
    {
      "cell_type": "code",
      "metadata": {
        "id": "NBvPkZCPQWYs"
      },
      "source": [
        "import finnhub"
      ],
      "execution_count": 4,
      "outputs": []
    },
    {
      "cell_type": "code",
      "metadata": {
        "id": "z5DiOolZQYi5"
      },
      "source": [
        "finnhub_client = finnhub.Client(api_key=\"bu76jmf48v6rajd4sij0\")"
      ],
      "execution_count": 7,
      "outputs": []
    },
    {
      "cell_type": "code",
      "metadata": {
        "id": "K-TwHegYTkqF"
      },
      "source": [
        "nflxData = finnhub_client.stock_candles('nflx', 'D', 1590988249, 1591852249)"
      ],
      "execution_count": 22,
      "outputs": []
    },
    {
      "cell_type": "code",
      "metadata": {
        "id": "hBTn0XiwT8id"
      },
      "source": [
        "df = pd.DataFrame(nflxData)"
      ],
      "execution_count": 23,
      "outputs": []
    },
    {
      "cell_type": "code",
      "metadata": {
        "id": "vKahHPIUVNvJ",
        "outputId": "e86a019c-12dc-4988-e155-21413e7ca164",
        "colab": {
          "base_uri": "https://localhost:8080/",
          "height": 297
        }
      },
      "source": [
        "display(df)"
      ],
      "execution_count": 24,
      "outputs": [
        {
          "output_type": "display_data",
          "data": {
            "text/html": [
              "<div>\n",
              "<style scoped>\n",
              "    .dataframe tbody tr th:only-of-type {\n",
              "        vertical-align: middle;\n",
              "    }\n",
              "\n",
              "    .dataframe tbody tr th {\n",
              "        vertical-align: top;\n",
              "    }\n",
              "\n",
              "    .dataframe thead th {\n",
              "        text-align: right;\n",
              "    }\n",
              "</style>\n",
              "<table border=\"1\" class=\"dataframe\">\n",
              "  <thead>\n",
              "    <tr style=\"text-align: right;\">\n",
              "      <th></th>\n",
              "      <th>c</th>\n",
              "      <th>h</th>\n",
              "      <th>l</th>\n",
              "      <th>o</th>\n",
              "      <th>s</th>\n",
              "      <th>t</th>\n",
              "      <th>v</th>\n",
              "    </tr>\n",
              "  </thead>\n",
              "  <tbody>\n",
              "    <tr>\n",
              "      <th>0</th>\n",
              "      <td>425.92</td>\n",
              "      <td>426.72</td>\n",
              "      <td>415.98</td>\n",
              "      <td>418.83</td>\n",
              "      <td>ok</td>\n",
              "      <td>1591018200</td>\n",
              "      <td>3743700</td>\n",
              "    </tr>\n",
              "    <tr>\n",
              "      <th>1</th>\n",
              "      <td>427.31</td>\n",
              "      <td>427.59</td>\n",
              "      <td>419.46</td>\n",
              "      <td>425.87</td>\n",
              "      <td>ok</td>\n",
              "      <td>1591104600</td>\n",
              "      <td>3494800</td>\n",
              "    </tr>\n",
              "    <tr>\n",
              "      <th>2</th>\n",
              "      <td>421.97</td>\n",
              "      <td>427.10</td>\n",
              "      <td>418.05</td>\n",
              "      <td>426.95</td>\n",
              "      <td>ok</td>\n",
              "      <td>1591191000</td>\n",
              "      <td>4316000</td>\n",
              "    </tr>\n",
              "    <tr>\n",
              "      <th>3</th>\n",
              "      <td>414.33</td>\n",
              "      <td>428.71</td>\n",
              "      <td>410.03</td>\n",
              "      <td>422.39</td>\n",
              "      <td>ok</td>\n",
              "      <td>1591277400</td>\n",
              "      <td>5410500</td>\n",
              "    </tr>\n",
              "    <tr>\n",
              "      <th>4</th>\n",
              "      <td>419.60</td>\n",
              "      <td>420.24</td>\n",
              "      <td>404.25</td>\n",
              "      <td>407.29</td>\n",
              "      <td>ok</td>\n",
              "      <td>1591363800</td>\n",
              "      <td>5099600</td>\n",
              "    </tr>\n",
              "    <tr>\n",
              "      <th>5</th>\n",
              "      <td>419.49</td>\n",
              "      <td>420.80</td>\n",
              "      <td>406.50</td>\n",
              "      <td>416.00</td>\n",
              "      <td>ok</td>\n",
              "      <td>1591623000</td>\n",
              "      <td>5851500</td>\n",
              "    </tr>\n",
              "    <tr>\n",
              "      <th>6</th>\n",
              "      <td>434.05</td>\n",
              "      <td>434.73</td>\n",
              "      <td>420.31</td>\n",
              "      <td>421.65</td>\n",
              "      <td>ok</td>\n",
              "      <td>1591709400</td>\n",
              "      <td>6797000</td>\n",
              "    </tr>\n",
              "    <tr>\n",
              "      <th>7</th>\n",
              "      <td>434.48</td>\n",
              "      <td>439.69</td>\n",
              "      <td>430.55</td>\n",
              "      <td>436.00</td>\n",
              "      <td>ok</td>\n",
              "      <td>1591795800</td>\n",
              "      <td>4896900</td>\n",
              "    </tr>\n",
              "  </tbody>\n",
              "</table>\n",
              "</div>"
            ],
            "text/plain": [
              "        c       h       l       o   s           t        v\n",
              "0  425.92  426.72  415.98  418.83  ok  1591018200  3743700\n",
              "1  427.31  427.59  419.46  425.87  ok  1591104600  3494800\n",
              "2  421.97  427.10  418.05  426.95  ok  1591191000  4316000\n",
              "3  414.33  428.71  410.03  422.39  ok  1591277400  5410500\n",
              "4  419.60  420.24  404.25  407.29  ok  1591363800  5099600\n",
              "5  419.49  420.80  406.50  416.00  ok  1591623000  5851500\n",
              "6  434.05  434.73  420.31  421.65  ok  1591709400  6797000\n",
              "7  434.48  439.69  430.55  436.00  ok  1591795800  4896900"
            ]
          },
          "metadata": {
            "tags": []
          }
        }
      ]
    },
    {
      "cell_type": "code",
      "metadata": {
        "id": "1R82Ltc6V-_j",
        "outputId": "316cf65e-7585-43e8-be01-c2946070dbf4",
        "colab": {
          "base_uri": "https://localhost:8080/",
          "height": 34
        }
      },
      "source": [
        "print(datetime.datetime.fromtimestamp(int(\"1591056000\")).strftime('%Y-%m-%d %H:%M:%S'))"
      ],
      "execution_count": 19,
      "outputs": [
        {
          "output_type": "stream",
          "text": [
            "2020-06-02 00:00:00\n"
          ],
          "name": "stdout"
        }
      ]
    },
    {
      "cell_type": "code",
      "metadata": {
        "id": "p-bD7v4MZi5c",
        "outputId": "de307983-e75c-45d0-fffe-d648a52af247",
        "colab": {
          "base_uri": "https://localhost:8080/",
          "height": 34
        }
      },
      "source": [
        "#Get the number of trading days in dataset\n",
        "df.shape"
      ],
      "execution_count": 25,
      "outputs": [
        {
          "output_type": "execute_result",
          "data": {
            "text/plain": [
              "(8, 7)"
            ]
          },
          "metadata": {
            "tags": []
          },
          "execution_count": 25
        }
      ]
    },
    {
      "cell_type": "code",
      "metadata": {
        "id": "KaxcgrXCZtRf",
        "outputId": "26f81876-51ae-4d75-904a-7fd51acb9c23",
        "colab": {
          "base_uri": "https://localhost:8080/",
          "height": 513
        }
      },
      "source": [
        "#Visualize the close price data\n",
        "plt.figure(figsize=(16,8))\n",
        "plt.title('Netflix')\n",
        "plt.xlabel('Days')\n",
        "plt.ylabel('Close Price USD')\n",
        "plt.plot(df['c'])\n",
        "plt.show()"
      ],
      "execution_count": 26,
      "outputs": [
        {
          "output_type": "display_data",
          "data": {
            "image/png": "[encoded data removed]",
            "text/plain": [
              "<Figure size 1152x576 with 1 Axes>"
            ]
          },
          "metadata": {
            "tags": [],
            "needs_background": "light"
          }
        }
      ]
    }
  ]
}